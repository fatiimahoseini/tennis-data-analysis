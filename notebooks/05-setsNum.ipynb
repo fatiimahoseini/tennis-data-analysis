{
 "cells": [
  {
   "cell_type": "markdown",
   "id": "3e78fad9",
   "metadata": {},
   "source": [
    "# Question 5: How many sets are typically played in a tennis match?\n",
    "\n",
    "---\n",
    "\n",
    "## **Distribution of Number of Sets in Tennis Matches**\n",
    "To determine how many sets are typically played in a tennis match, I analyzed the dataset columns representing individual sets:\n",
    " `period_1`, `period_2`, `period_3`, `period_4`, and `period_5`.\n",
    "\n",
    "#### **Steps I took:**\n",
    "\n",
    "1. **Checked the non-null counts** for each `period_n` column. I observed that:\n",
    "   - `period_1` and `period_2` had the highest number of entries.\n",
    "   - `period_3` had significantly fewer entries.\n",
    "   - `period_4` and `period_5` were almost entirely empty.\n",
    "\n",
    "2. **Based on this distribution, it is evident that most matches finish in either 2 or 3 sets.**\n",
    "   - Matches that go to 4 or 5 sets are extremely rare in this dataset.\n",
    "\n",
    "3. **I calculated how many matches had data for each number of sets by counting non-null `period_n` columns per match.**\n",
    "\n",
    "---\n",
    "\n",
    "#### **Findings:**\n",
    "A majority of matches are completed in **2 sets**, while a smaller portion go to **3 sets**. Very few matches extend to 4 or 5 sets.\n",
    "\n",
    "#### **Data Quality:**\n",
    "\n",
    "During the data loading and preprocessing phase, we encountered several issues related to missing or incomplete data:\n",
    "\n",
    "**- Missing Data:**\n",
    "A significant portion of the dataset contains missing values for several critical columns:\n",
    "\n",
    "  - period_1: 19,147 missing entries\n",
    "\n",
    "  - period_2: 19,903 missing entries\n",
    "\n",
    "  - period_3: 81,353 missing entries\n",
    "\n",
    "  - period_4: 105,888 missing entries\n",
    "\n",
    "  - period_5: 105,888 missing entries\n",
    "\n",
    "These missing values can significantly impact the accuracy and completeness of the analysis, especially for estimating match duration or the number of sets played.\n",
    "\n",
    "**- File Issues:**\n",
    "  We encountered a large number of file reading errors. Specifically, `210,914` files were skipped due to read errors or missing expected columns, which resulted in a substantial loss of data. \n",
    "\n",
    "This issue further exacerbates the limitations of the dataset, as many matches were not included in the final processed data.\n",
    "\n",
    "\n",
    "\n",
    "\n"
   ]
  },
  {
   "cell_type": "code",
   "execution_count": 5,
   "id": "9ed33784",
   "metadata": {},
   "outputs": [],
   "source": [
    "import os\n",
    "from pathlib import Path\n",
    "import pandas as pd\n",
    "from concurrent.futures import ThreadPoolExecutor, as_completed\n",
    "from tqdm import tqdm\n",
    "import matplotlib.pyplot as plt\n",
    "import seaborn as sns"
   ]
  },
  {
   "cell_type": "code",
   "execution_count": 2,
   "id": "bf0602cf",
   "metadata": {},
   "outputs": [],
   "source": [
    "def get_day_folders(base_path):\n",
    "    return sorted([\n",
    "        folder for folder in os.listdir(base_path)\n",
    "        if os.path.isdir(os.path.join(base_path, folder)) and folder.startswith(\"2024\")\n",
    "    ])\n",
    "\n",
    "def load_file_selected_columns(file, columns):\n",
    "    try:\n",
    "        return pd.read_parquet(file, columns=columns)\n",
    "    except Exception as e:\n",
    "        return None\n",
    "\n",
    "def load_all_data_selected_columns(base_path, subfolder_name, columns):\n",
    "    all_files = []\n",
    "    for folder in get_day_folders(base_path):\n",
    "        path_pattern = Path(base_path) / folder / 'data' / 'raw' / subfolder_name\n",
    "        all_files.extend(path_pattern.glob(\"*.parquet\"))\n",
    "\n",
    "    dfs = []\n",
    "    failed_files = 0\n",
    "    max_workers = 16\n",
    "\n",
    "    with ThreadPoolExecutor(max_workers=max_workers) as executor:\n",
    "        futures = [executor.submit(load_file_selected_columns, file, columns) for file in all_files]\n",
    "        for future in tqdm(as_completed(futures), total=len(futures), desc=\"Loading selected columns\"):\n",
    "            result = future.result()\n",
    "            if result is not None:\n",
    "                dfs.append(result)\n",
    "            else:\n",
    "                failed_files += 1\n",
    "\n",
    "    if failed_files > 0:\n",
    "        print(f\"⚠️ Skipped {failed_files} files due to read errors or missing columns.\")\n",
    "\n",
    "    return pd.concat(dfs, ignore_index=True) if dfs else None"
   ]
  },
  {
   "cell_type": "code",
   "execution_count": 3,
   "id": "a8bd7a22",
   "metadata": {},
   "outputs": [
    {
     "name": "stderr",
     "output_type": "stream",
     "text": [
      "Loading selected columns: 100%|██████████| 316802/316802 [06:02<00:00, 873.17it/s] \n"
     ]
    },
    {
     "name": "stdout",
     "output_type": "stream",
     "text": [
      "⚠️ Skipped 210914 files due to read errors or missing columns.\n"
     ]
    }
   ],
   "source": [
    "# Load only required columns\n",
    "base_path = \"../data/tennis_data\"\n",
    "required_columns = ['match_id', 'period_1', 'period_2', 'period_3', 'period_4', 'period_5']\n",
    "matches_df = load_all_data_selected_columns(base_path, 'raw_match_parquet', required_columns)\n"
   ]
  },
  {
   "cell_type": "code",
   "execution_count": 4,
   "id": "98cd9fa2",
   "metadata": {},
   "outputs": [
    {
     "name": "stdout",
     "output_type": "stream",
     "text": [
      "📊 Descriptive statistics on number of sets:\n",
      "count    105888.000000\n",
      "mean          1.862921\n",
      "std           0.970984\n",
      "min           0.000000\n",
      "25%           2.000000\n",
      "50%           2.000000\n",
      "75%           2.000000\n",
      "max           3.000000\n",
      "Name: num_sets, dtype: float64\n",
      "\n",
      "📈 Set count frequency:\n",
      "num_sets\n",
      "0    19130\n",
      "1      778\n",
      "2    61457\n",
      "3    24523\n",
      "Name: count, dtype: int64\n"
     ]
    }
   ],
   "source": [
    "# Compute number of sets played\n",
    "if matches_df is not None:\n",
    "    period_columns = ['period_1', 'period_2', 'period_3', 'period_4', 'period_5']\n",
    "    matches_df['num_sets'] = matches_df[period_columns].notna().sum(axis=1)\n",
    "\n",
    "    print(\"📊 Descriptive statistics on number of sets:\")\n",
    "    print(matches_df['num_sets'].describe())\n",
    "\n",
    "    print(\"\\n📈 Set count frequency:\")\n",
    "    print(matches_df['num_sets'].value_counts().sort_index())\n",
    "\n",
    "else:\n",
    "    print(\"No data loaded.\")"
   ]
  },
  {
   "cell_type": "code",
   "execution_count": 34,
   "id": "ba9e35f2",
   "metadata": {},
   "outputs": [
    {
     "data": {
      "text/plain": [
       "match_id         0\n",
       "period_1     19147\n",
       "period_2     19903\n",
       "period_3     81353\n",
       "period_4    105888\n",
       "period_5    105888\n",
       "num_sets         0\n",
       "dtype: int64"
      ]
     },
     "execution_count": 34,
     "metadata": {},
     "output_type": "execute_result"
    }
   ],
   "source": [
    "matches_df.isnull().sum()"
   ]
  },
  {
   "cell_type": "code",
   "execution_count": 20,
   "id": "314f444b",
   "metadata": {},
   "outputs": [
    {
     "data": {
      "text/html": [
       "<div>\n",
       "<style scoped>\n",
       "    .dataframe tbody tr th:only-of-type {\n",
       "        vertical-align: middle;\n",
       "    }\n",
       "\n",
       "    .dataframe tbody tr th {\n",
       "        vertical-align: top;\n",
       "    }\n",
       "\n",
       "    .dataframe thead th {\n",
       "        text-align: right;\n",
       "    }\n",
       "</style>\n",
       "<table border=\"1\" class=\"dataframe\">\n",
       "  <thead>\n",
       "    <tr style=\"text-align: right;\">\n",
       "      <th></th>\n",
       "      <th>match_id</th>\n",
       "      <th>period_1</th>\n",
       "      <th>period_2</th>\n",
       "      <th>period_3</th>\n",
       "      <th>period_4</th>\n",
       "      <th>period_5</th>\n",
       "      <th>num_sets</th>\n",
       "    </tr>\n",
       "  </thead>\n",
       "  <tbody>\n",
       "    <tr>\n",
       "      <th>0</th>\n",
       "      <td>11998446</td>\n",
       "      <td>6</td>\n",
       "      <td>6</td>\n",
       "      <td>None</td>\n",
       "      <td>None</td>\n",
       "      <td>None</td>\n",
       "      <td>2</td>\n",
       "    </tr>\n",
       "    <tr>\n",
       "      <th>1</th>\n",
       "      <td>11974066</td>\n",
       "      <td>None</td>\n",
       "      <td>None</td>\n",
       "      <td>None</td>\n",
       "      <td>None</td>\n",
       "      <td>None</td>\n",
       "      <td>0</td>\n",
       "    </tr>\n",
       "    <tr>\n",
       "      <th>2</th>\n",
       "      <td>11998447</td>\n",
       "      <td>4</td>\n",
       "      <td>0</td>\n",
       "      <td>None</td>\n",
       "      <td>None</td>\n",
       "      <td>None</td>\n",
       "      <td>2</td>\n",
       "    </tr>\n",
       "    <tr>\n",
       "      <th>3</th>\n",
       "      <td>11974053</td>\n",
       "      <td>None</td>\n",
       "      <td>None</td>\n",
       "      <td>None</td>\n",
       "      <td>None</td>\n",
       "      <td>None</td>\n",
       "      <td>0</td>\n",
       "    </tr>\n",
       "    <tr>\n",
       "      <th>4</th>\n",
       "      <td>11998670</td>\n",
       "      <td>2</td>\n",
       "      <td>7</td>\n",
       "      <td>6</td>\n",
       "      <td>None</td>\n",
       "      <td>None</td>\n",
       "      <td>3</td>\n",
       "    </tr>\n",
       "  </tbody>\n",
       "</table>\n",
       "</div>"
      ],
      "text/plain": [
       "   match_id period_1 period_2 period_3 period_4 period_5  num_sets\n",
       "0  11998446        6        6     None     None     None         2\n",
       "1  11974066     None     None     None     None     None         0\n",
       "2  11998447        4        0     None     None     None         2\n",
       "3  11974053     None     None     None     None     None         0\n",
       "4  11998670        2        7        6     None     None         3"
      ]
     },
     "execution_count": 20,
     "metadata": {},
     "output_type": "execute_result"
    }
   ],
   "source": [
    "matches_df.head()"
   ]
  },
  {
   "cell_type": "code",
   "execution_count": 33,
   "id": "52729a4b",
   "metadata": {},
   "outputs": [
    {
     "name": "stderr",
     "output_type": "stream",
     "text": [
      "C:\\Users\\fatii\\AppData\\Local\\Temp\\ipykernel_8616\\3920913941.py:4: FutureWarning: \n",
      "\n",
      "Passing `palette` without assigning `hue` is deprecated and will be removed in v0.14.0. Assign the `x` variable to `hue` and set `legend=False` for the same effect.\n",
      "\n",
      "  sns.countplot(data=matches_df_filtered, x='num_sets', palette='rocket', width=0.7)\n"
     ]
    },
    {
     "data": {
      "image/png": "[encoded data removed]",
      "text/plain": [
       "<Figure size 1000x500 with 1 Axes>"
      ]
     },
     "metadata": {},
     "output_type": "display_data"
    }
   ],
   "source": [
    "matches_df_filtered = matches_df[matches_df['num_sets'] > 0]\n",
    "\n",
    "fig, ax = plt.subplots(figsize=(10,5))\n",
    "sns.countplot(data=matches_df_filtered, x='num_sets', palette='rocket', width=0.7)\n",
    "\n",
    "ax.spines[[\"right\", \"top\"]].set_visible(False)\n",
    "ax.spines[[\"left\", \"bottom\"]].set_color(\"#c2c2c2\")\n",
    "\n",
    "ax.set_title(\"Distribution of Number of Sets in Tennis Matches\",\n",
    "             weight=\"bold\",\n",
    "             color=\"grey\",\n",
    "             fontsize=16)\n",
    "\n",
    "ax.set_xlabel(\"Number of Sets Played\", loc=\"left\", fontsize=12, color=\"grey\")\n",
    "ax.set_ylabel(\"Number of Matches\", loc=\"bottom\", fontsize=12, color=\"grey\")\n",
    "\n",
    "ax.tick_params(axis=\"x\", colors=\"grey\", labelsize=\"large\")\n",
    "ax.tick_params(axis=\"y\", colors=\"grey\", labelsize=\"large\")\n",
    "\n",
    "ax.grid(axis='y', linestyle=\"dashed\", color=\"gainsboro\")\n",
    "\n",
    "plt.savefig(\"../outputs/figures/NumberOfSets.png\", dpi=300)\n",
    "plt.show()"
   ]
  },
  {
   "cell_type": "markdown",
   "id": "2adc817b",
   "metadata": {},
   "source": [
    "# **Conclusion**\n",
    "\n",
    "In this analysis, I aimed to estimate the typical number of sets played in tennis matches. Since the dataset lacked a direct `num_sets` column, I inferred this value based on the presence of non-null period_n columns (from `period_1` to `period_5`).\n",
    "\n",
    "To optimize performance, I refactored the data loading pipeline to selectively read only the necessary columns. Despite these improvements, a large portion of the data was either incomplete or unreadable — with `210,914` files skipped due to read errors or missing columns, and tens of thousands of entries with missing period data.\n",
    "\n",
    "Nevertheless, I successfully extracted meaningful insights from the available data, visualized the distribution of set counts, and handled the limitations systematically to ensure the findings remain as reliable as possible within the constraints.\n"
   ]
  },
  {
   "cell_type": "markdown",
   "id": "c5f8d38e",
   "metadata": {},
   "source": []
  }
 ],
 "metadata": {
  "kernelspec": {
   "display_name": "tennisvenv",
   "language": "python",
   "name": "python3"
  },
  "language_info": {
   "codemirror_mode": {
    "name": "ipython",
    "version": 3
   },
   "file_extension": ".py",
   "mimetype": "text/x-python",
   "name": "python",
   "nbconvert_exporter": "python",
   "pygments_lexer": "ipython3",
   "version": "3.12.10"
  }
 },
 "nbformat": 4,
 "nbformat_minor": 5
}
