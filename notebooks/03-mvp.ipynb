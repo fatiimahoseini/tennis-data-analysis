{
 "cells": [
  {
   "cell_type": "markdown",
   "id": "77b0dfdf",
   "metadata": {},
   "source": [
    "# **Question 3: Which player has the highest number of wins?**\n",
    "\n",
    "---\n",
    "\n",
    "## Overview\n",
    "In this question, the goal was to identify which player had the `highest number of wins` in the dataset, utilizing match result data stored in Parquet files. The process involved extracting `match IDs` and corresponding `player IDs` from the `raw_odds_parquet` files where the match result indicated a win, and then associating those results with player names from the `raw_match_parquet` files.\n",
    "\n",
    "I implemented a process to efficiently handle large-scale data and avoid redundancy. The matching player IDs with the highest number of wins were extracted and then sorted to identify the player with the most wins.\n",
    "\n",
    "**The processing pipeline included:**\n",
    "\n",
    "- Scanning through thousands of raw_odds_parquet files to extract winning matches.\n",
    "- Identifying unique winning player IDs from the odds data.\n",
    "- Matching the player IDs to their corresponding names in the raw_match_parquet files.\n",
    "- Aggregating win counts for each player and determining the top performers."
   ]
  },
  {
   "cell_type": "code",
   "execution_count": null,
   "id": "b7dbe610",
   "metadata": {},
   "outputs": [],
   "source": [
    "import os\n",
    "import glob\n",
    "import pandas as pd\n",
    "from collections import Counter\n",
    "from concurrent.futures import ThreadPoolExecutor, as_completed\n",
    "from tqdm import tqdm\n",
    "import matplotlib.pyplot as plt"
   ]
  },
  {
   "cell_type": "code",
   "execution_count": 3,
   "id": "a595eaa8",
   "metadata": {},
   "outputs": [],
   "source": [
    "base_path = \"../data/tennis_data\"\n",
    "\n",
    "# Function to read match_ids where someone has won\n",
    "def extract_winner_match_ids(file_path):\n",
    "    try:\n",
    "        df = pd.read_parquet(file_path, columns=['match_id', 'winnig'])\n",
    "        return df[df['winnig'] == True]['match_id'].tolist()\n",
    "    except Exception:\n",
    "        return []\n",
    "\n",
    "# Function to get player_ids based on match_ids\n",
    "def extract_player_ids(file_path, winning_match_ids):\n",
    "    try:\n",
    "        df = pd.read_parquet(file_path, columns=['match_id', 'player_id'])\n",
    "        return df[df['match_id'].isin(winning_match_ids)]['player_id'].tolist()\n",
    "    except Exception:\n",
    "        return []\n",
    "\n",
    "# Function to retrieve the player's full name using player_id\n",
    "def get_player_name(base_path, player_id):\n",
    "    date_folders = [f for f in os.listdir(base_path) if f.isdigit()]\n",
    "    for folder in date_folders:\n",
    "        path_pattern = os.path.join(base_path, folder, 'data', 'raw', 'raw_match_parquet', '*.parquet')\n",
    "        match_files = glob.glob(path_pattern)\n",
    "        for file_path in match_files:\n",
    "            try:\n",
    "                df = pd.read_parquet(file_path, columns=['player_id', 'full_name'])\n",
    "                match = df[df['player_id'] == player_id]\n",
    "                if not match.empty:\n",
    "                    return match.iloc[0]['full_name']\n",
    "            except:\n",
    "                continue\n",
    "    return \"Unknown\""
   ]
  },
  {
   "cell_type": "code",
   "execution_count": 4,
   "id": "665bcdb8",
   "metadata": {},
   "outputs": [
    {
     "name": "stdout",
     "output_type": "stream",
     "text": [
      "🔍 Scanning 22065 odds files...\n"
     ]
    },
    {
     "name": "stderr",
     "output_type": "stream",
     "text": [
      "Reading odds files: 100%|██████████| 22065/22065 [00:37<00:00, 585.24it/s]\n"
     ]
    },
    {
     "name": "stdout",
     "output_type": "stream",
     "text": [
      "\n",
      "✅ Found 28465 winning match IDs.\n"
     ]
    },
    {
     "name": "stderr",
     "output_type": "stream",
     "text": [
      "Reading match files: 100%|██████████| 316802/316802 [03:59<00:00, 1324.45it/s]"
     ]
    },
    {
     "name": "stdout",
     "output_type": "stream",
     "text": [
      "\n",
      "✅ Found 37346 winner player IDs.\n"
     ]
    },
    {
     "name": "stderr",
     "output_type": "stream",
     "text": [
      "\n"
     ]
    }
   ],
   "source": [
    "# Find all odds and match files\n",
    "date_folders = [f for f in os.listdir(base_path) if f.isdigit()]\n",
    "odds_files = []\n",
    "match_files = []\n",
    "\n",
    "for folder in date_folders:\n",
    "    odds_path = os.path.join(base_path, folder, 'data', 'raw', 'raw_odds_parquet', '*.parquet')\n",
    "    match_path = os.path.join(base_path, folder, 'data', 'raw', 'raw_match_parquet', '*.parquet')\n",
    "    odds_files.extend(glob.glob(odds_path))\n",
    "    match_files.extend(glob.glob(match_path))\n",
    "\n",
    "print(f\"🔍 Scanning {len(odds_files)} odds files...\")\n",
    "\n",
    "# Extract match_ids where the 'winnig' column is True\n",
    "winner_match_ids = []\n",
    "with ThreadPoolExecutor() as executor:\n",
    "    futures = {executor.submit(extract_winner_match_ids, file): file for file in odds_files}\n",
    "    for future in tqdm(as_completed(futures), total=len(futures), desc=\"Reading odds files\"):\n",
    "        result = future.result()\n",
    "        if result:\n",
    "            winner_match_ids.extend(result)\n",
    "\n",
    "print(f\"\\n✅ Found {len(winner_match_ids)} winning match IDs.\")\n",
    "\n",
    "# Extract player_ids from match files using match_ids\n",
    "winner_ids = []\n",
    "with ThreadPoolExecutor() as executor:\n",
    "    futures = {executor.submit(extract_player_ids, file, winner_match_ids): file for file in match_files}\n",
    "    for future in tqdm(as_completed(futures), total=len(futures), desc=\"Reading match files\"):\n",
    "        result = future.result()\n",
    "        if result:\n",
    "            winner_ids.extend(result)\n",
    "\n",
    "print(f\"\\n✅ Found {len(winner_ids)} winner player IDs.\")\n"
   ]
  },
  {
   "cell_type": "code",
   "execution_count": 5,
   "id": "4a337937",
   "metadata": {},
   "outputs": [
    {
     "name": "stdout",
     "output_type": "stream",
     "text": [
      "\n",
      "🏆 Top 5 Players with Most Wins:\n",
      "\n",
      "1. Basilashvili, Nikoloz (player_id: 26204) - 🟢 Wins: 56\n",
      "2. Chidekh, Clement (player_id: 231620) - 🟢 Wins: 54\n",
      "3. Kukushkin, Mikhail (player_id: 16683) - 🟢 Wins: 52\n",
      "4. Merida Aguilar, Daniel (player_id: 338890) - 🟢 Wins: 52\n",
      "5. Jianu, Filip Cristian (player_id: 230049) - 🟢 Wins: 52\n"
     ]
    }
   ],
   "source": [
    "# Count number of wins per player\n",
    "winner_counts = Counter(winner_ids)\n",
    "top_5_players = winner_counts.most_common(5)\n",
    "\n",
    "print(\"\\n🏆 Top 5 Players with Most Wins:\\n\")\n",
    "for i, (player_id, win_count) in enumerate(top_5_players, start=1):\n",
    "    full_name = get_player_name(base_path, player_id)\n",
    "    print(f\"{i}. {full_name} (player_id: {player_id}) - 🟢 Wins: {win_count}\")"
   ]
  },
  {
   "cell_type": "code",
   "execution_count": 32,
   "id": "506139f4",
   "metadata": {},
   "outputs": [],
   "source": [
    "players = [get_player_name(base_path, player_id) for player_id, _ in top_5_players]\n",
    "wins = [win_count for _, win_count in top_5_players]"
   ]
  },
  {
   "cell_type": "code",
   "execution_count": null,
   "id": "70eb099f",
   "metadata": {},
   "outputs": [
    {
     "data": {
      "image/png": "[encoded data removed]",
      "text/plain": [
       "<Figure size 1000x700 with 1 Axes>"
      ]
     },
     "metadata": {},
     "output_type": "display_data"
    }
   ],
   "source": [
    "fig, ax = plt.subplots(figsize=(10,7))\n",
    "plt.barh(players, wins, color='skyblue')\n",
    "\n",
    "ax.spines[[\"right\",\"top\"]].set_visible(False)\n",
    "ax.spines[[\"left\"]].set_color(\"#c2c2c2\")\n",
    "\n",
    "ax.set_title(\"Top 5 Players with Most Wins\",\n",
    "             weight=\"bold\",\n",
    "             color=\"grey\",\n",
    "             fontsize=15)\n",
    "\n",
    "ax.tick_params(axis=\"x\", labelsize=\"large\")\n",
    "ax.tick_params(axis=\"y\", labelsize=\"large\")\n",
    "\n",
    "ax.set_xlabel(\"Player\", fontsize=10, color=\"grey\")\n",
    "ax.set_ylabel(\"Number of Wins\", fontsize=10, color=\"grey\")\n",
    "\n",
    "ax.grid(axis=\"x\", linestyle=\"dashed\", color=\"gainsboro\")\n",
    "\n",
    "plt.savefig(\"../outputs/figures/MVP.png\", dpi=300)\n",
    "plt.show()"
   ]
  },
  {
   "cell_type": "markdown",
   "id": "a0e6e462",
   "metadata": {},
   "source": [
    "# **Conclusion**\n",
    "After scanning over `22,065 odds` files, I identified a total of `37,346 winners`, corresponding to `28,465 unique match IDs` where a player had won. The player with the most wins was `Nikoloz Basilashvili`, with a total of `56 wins`. \n",
    "This was followed closely by Clement Chidekh with 54 wins and Mikhail Kukushkin, Daniel Merida Aguilar, and Filip Cristian Jianu each with 52 wins.\n",
    "\n",
    "The dataset was cleaned and processed in such a way that it successfully identified the top 5 players with the highest number of wins, while filtering out unnecessary or corrupted data. Despite the large volume of data, the process provided a reliable insight into the performance of players in the dataset.\n",
    "\n",
    "This analysis relied on the efficient handling of large datasets by leveraging pandas for data processing and ThreadPoolExecutor for parallelized loading and matching of files. Through proper data filtering, I was able to extract player names and counts accurately, ensuring the final output was both meaningful and efficient.\n",
    "\n",
    "**Top 5 Players with Most Wins:**\n",
    "\n",
    "- 🏆 Basilashvili, Nikoloz (player_id: 26204) - 🟢 Wins: 56\n",
    "- Chidekh, Clement (player_id: 231620) - 🟢 Wins: 54\n",
    "- Kukushkin, Mikhail (player_id: 16683) - 🟢 Wins: 52\n",
    "- Merida Aguilar, Daniel (player_id: 338890) - 🟢 Wins: 52\n",
    "- Jianu, Filip Cristian (player_id: 230049) - 🟢 Wins: 52\n",
    "\n",
    "This analysis demonstrates how extracting and aggregating match results from large datasets can provide insightful player-level statistics. By combining parallel processing with efficient data handling and proper filtering, I was able to quickly process and summarize player performance across a significant amount of tennis match data."
   ]
  }
 ],
 "metadata": {
  "kernelspec": {
   "display_name": "tennisvenv",
   "language": "python",
   "name": "python3"
  },
  "language_info": {
   "codemirror_mode": {
    "name": "ipython",
    "version": 3
   },
   "file_extension": ".py",
   "mimetype": "text/x-python",
   "name": "python",
   "nbconvert_exporter": "python",
   "pygments_lexer": "ipython3",
   "version": "3.12.10"
  }
 },
 "nbformat": 4,
 "nbformat_minor": 5
}
