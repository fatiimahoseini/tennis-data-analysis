{
 "cells": [
  {
   "cell_type": "code",
   "execution_count": 3,
   "id": "80a3ca06",
   "metadata": {},
   "outputs": [],
   "source": [
    "import os\n",
    "import glob\n",
    "import pandas as pd\n",
    "from concurrent.futures import ThreadPoolExecutor, as_completed\n",
    "from tqdm import tqdm"
   ]
  },
  {
   "cell_type": "code",
   "execution_count": 4,
   "id": "0753defa",
   "metadata": {},
   "outputs": [],
   "source": [
    "def get_day_folders(base_path):\n",
    "    # یافتن همه پوشه‌های روز\n",
    "    return sorted([\n",
    "        folder for folder in os.listdir(base_path)\n",
    "        if os.path.isdir(os.path.join(base_path, folder)) and folder.startswith(\"2024\")\n",
    "    ])\n",
    "\n",
    "def load_file(file):\n",
    "    try:\n",
    "        return pd.read_parquet(file)\n",
    "    except Exception as e:\n",
    "        print(f\"Error reading {file}: {e}\")\n",
    "        return None\n",
    "\n",
    "def load_all_data(base_path, subfolder_name):\n",
    "    all_files = []\n",
    "    for folder in get_day_folders(base_path):\n",
    "        path_pattern = os.path.join(base_path, folder, 'data', 'raw', subfolder_name, '*.parquet')\n",
    "        all_files.extend(glob.glob(path_pattern))\n",
    "\n",
    "    dfs = []\n",
    "    # استفاده از ThreadPoolExecutor برای بارگذاری موازی\n",
    "    with ThreadPoolExecutor(max_workers=8) as executor:\n",
    "        # tqdm برای نمایش پیشرفت\n",
    "        futures = {executor.submit(load_file, file): file for file in all_files}\n",
    "        for future in tqdm(as_completed(futures), total=len(futures), desc=\"Loading files\"):\n",
    "            result = future.result()\n",
    "            if result is not None:\n",
    "                dfs.append(result)\n",
    "    \n",
    "    return pd.concat(dfs, ignore_index=True) if dfs else None"
   ]
  },
  {
   "cell_type": "code",
   "execution_count": null,
   "id": "302ff439",
   "metadata": {},
   "outputs": [
    {
     "name": "stdout",
     "output_type": "stream",
     "text": [
      "Loading all tennis data...\n"
     ]
    },
    {
     "name": "stderr",
     "output_type": "stream",
     "text": [
      "Loading files:  11%|█         | 33843/316802 [00:53<07:31, 627.29it/s] \n"
     ]
    }
   ],
   "source": [
    "base_path = \"../data/tennis_data\"\n",
    "print(\"Loading all tennis data...\")\n",
    "matches_df = load_all_data(base_path, 'raw_match_parquet')\n",
    "print(\"Loading complete.\")\n"
   ]
  },
  {
   "cell_type": "code",
   "execution_count": null,
   "id": "4ba32730",
   "metadata": {},
   "outputs": [
    {
     "name": "stdout",
     "output_type": "stream",
     "text": [
      "Loading all tennis data...\n"
     ]
    },
    {
     "name": "stderr",
     "output_type": "stream",
     "text": [
      "Loading files: 100%|██████████| 23291/23291 [00:48<00:00, 484.71it/s]\n",
      "Loading files: 100%|██████████| 22724/22724 [00:38<00:00, 582.71it/s]\n",
      "Loading files: 100%|██████████| 35658/35658 [00:56<00:00, 630.14it/s]\n",
      "Loading files: 100%|██████████| 22065/22065 [00:38<00:00, 570.92it/s]\n",
      "Loading files: 100%|██████████| 22272/22272 [00:46<00:00, 480.76it/s]\n"
     ]
    },
    {
     "name": "stdout",
     "output_type": "stream",
     "text": [
      "Loading complete.\n"
     ]
    }
   ],
   "source": [
    "#stats\n",
    "print(\"Loading all tennis data...\")\n",
    "stats_df = load_all_data(base_path, 'raw_statistics_parquet')\n",
    "p_df = load_all_data(base_path, 'raw_tennis_power_parquet')\n",
    "v_df = load_all_data(base_path, 'raw_votes_parquet')\n",
    "o_df = load_all_data(base_path, 'raw_odds_parquet')\n",
    "pbp_df = load_all_data(base_path, 'raw_point_by_point_parquet')\n",
    "print(\"Loading complete.\")\n"
   ]
  },
  {
   "cell_type": "code",
   "execution_count": 16,
   "id": "273420c1",
   "metadata": {},
   "outputs": [
    {
     "data": {
      "text/plain": [
       "Index(['match_id', 'name', 'slug', 'gender', 'user_count', 'residence',\n",
       "       'birthplace', 'height', 'weight', 'plays', 'turned_pro',\n",
       "       'current_prize', 'total_prize', 'player_id', 'current_rank',\n",
       "       'name_code', 'country', 'full_name', 'current_score', 'display_score',\n",
       "       'period_1', 'period_2', 'period_3', 'period_4', 'period_5',\n",
       "       'period_1_tie_break', 'period_2_tie_break', 'period_3_tie_break',\n",
       "       'period_4_tie_break', 'period_5_tie_break', 'normal_time',\n",
       "       'first_to_serve', 'home_team_seed', 'away_team_seed', 'custom_id',\n",
       "       'winner_code', 'default_period_count', 'start_datetime', 'match_slug',\n",
       "       'final_result_only', 'round_id', 'cup_round_type', 'season_id', 'year',\n",
       "       'current_period_start_timestamp', 'tournament_id', 'tournament_name',\n",
       "       'tournament_slug', 'tournament_unique_id', 'tournament_category_name',\n",
       "       'tournament_category_slug', 'ground_type', 'tennis_points',\n",
       "       'has_event_player_statistics', 'crowd_sourcing_enabled',\n",
       "       'has_performance_graph_feature', 'display_inverse_home_away_teams',\n",
       "       'priority', 'competition_type', 'city', 'stadium', 'venue_id'],\n",
       "      dtype='object')"
      ]
     },
     "execution_count": 16,
     "metadata": {},
     "output_type": "execute_result"
    }
   ],
   "source": [
    "matches_df.columns"
   ]
  },
  {
   "cell_type": "code",
   "execution_count": 24,
   "id": "cba8432d",
   "metadata": {},
   "outputs": [
    {
     "data": {
      "text/plain": [
       "Index(['match_id', 'period', 'statistic_category_name', 'statistic_name',\n",
       "       'home_stat', 'away_stat', 'compare_code', 'statistic_type',\n",
       "       'value_type', 'home_value', 'away_value', 'home_total', 'away_total'],\n",
       "      dtype='object')"
      ]
     },
     "execution_count": 24,
     "metadata": {},
     "output_type": "execute_result"
    }
   ],
   "source": [
    "stats_df.columns"
   ]
  },
  {
   "cell_type": "code",
   "execution_count": 25,
   "id": "4ebcedad",
   "metadata": {},
   "outputs": [
    {
     "data": {
      "text/plain": [
       "Index(['match_id', 'set_num', 'game_num', 'value', 'break_occurred'], dtype='object')"
      ]
     },
     "execution_count": 25,
     "metadata": {},
     "output_type": "execute_result"
    }
   ],
   "source": [
    "p_df.columns"
   ]
  },
  {
   "cell_type": "code",
   "execution_count": 26,
   "id": "8c0eae82",
   "metadata": {},
   "outputs": [
    {
     "data": {
      "text/plain": [
       "Index(['match_id', 'home_vote', 'away_vote'], dtype='object')"
      ]
     },
     "execution_count": 26,
     "metadata": {},
     "output_type": "execute_result"
    }
   ],
   "source": [
    "v_df.columns"
   ]
  },
  {
   "cell_type": "code",
   "execution_count": 27,
   "id": "ea2f71f6",
   "metadata": {},
   "outputs": [
    {
     "data": {
      "text/plain": [
       "Index(['match_id', 'market_id', 'market_name', 'is_live', 'suspended',\n",
       "       'initial_fractional_value', 'fractional_value', 'choice_name',\n",
       "       'choice_source_id', 'winnig', 'change'],\n",
       "      dtype='object')"
      ]
     },
     "execution_count": 27,
     "metadata": {},
     "output_type": "execute_result"
    }
   ],
   "source": [
    "o_df.columns"
   ]
  },
  {
   "cell_type": "code",
   "execution_count": 28,
   "id": "f780deb2",
   "metadata": {},
   "outputs": [
    {
     "data": {
      "text/plain": [
       "Index(['match_id', 'set_id', 'game_id', 'point_id', 'home_point', 'away_point',\n",
       "       'point_description', 'home_point_type', 'away_point_type', 'home_score',\n",
       "       'away_score', 'serving', 'scoring'],\n",
       "      dtype='object')"
      ]
     },
     "execution_count": 28,
     "metadata": {},
     "output_type": "execute_result"
    }
   ],
   "source": [
    "pbp_df.columns"
   ]
  },
  {
   "cell_type": "code",
   "execution_count": 5,
   "id": "82c3965e",
   "metadata": {},
   "outputs": [
    {
     "data": {
      "text/html": [
       "<div>\n",
       "<style scoped>\n",
       "    .dataframe tbody tr th:only-of-type {\n",
       "        vertical-align: middle;\n",
       "    }\n",
       "\n",
       "    .dataframe tbody tr th {\n",
       "        vertical-align: top;\n",
       "    }\n",
       "\n",
       "    .dataframe thead th {\n",
       "        text-align: right;\n",
       "    }\n",
       "</style>\n",
       "<table border=\"1\" class=\"dataframe\">\n",
       "  <thead>\n",
       "    <tr style=\"text-align: right;\">\n",
       "      <th></th>\n",
       "      <th>match_id</th>\n",
       "      <th>name</th>\n",
       "      <th>slug</th>\n",
       "      <th>gender</th>\n",
       "      <th>user_count</th>\n",
       "      <th>residence</th>\n",
       "      <th>birthplace</th>\n",
       "      <th>height</th>\n",
       "      <th>weight</th>\n",
       "      <th>plays</th>\n",
       "      <th>...</th>\n",
       "      <th>tennis_points</th>\n",
       "      <th>has_event_player_statistics</th>\n",
       "      <th>crowd_sourcing_enabled</th>\n",
       "      <th>has_performance_graph_feature</th>\n",
       "      <th>display_inverse_home_away_teams</th>\n",
       "      <th>priority</th>\n",
       "      <th>competition_type</th>\n",
       "      <th>city</th>\n",
       "      <th>stadium</th>\n",
       "      <th>venue_id</th>\n",
       "    </tr>\n",
       "  </thead>\n",
       "  <tbody>\n",
       "    <tr>\n",
       "      <th>0</th>\n",
       "      <td>11998780</td>\n",
       "      <td>Kozlov S.</td>\n",
       "      <td>kozlov-stefan</td>\n",
       "      <td>M</td>\n",
       "      <td>752.0</td>\n",
       "      <td>Pembroke Pines, FL, USA</td>\n",
       "      <td>Skopje, Macedonia</td>\n",
       "      <td>1.83</td>\n",
       "      <td>79.0</td>\n",
       "      <td>right-handed</td>\n",
       "      <td>...</td>\n",
       "      <td>NaN</td>\n",
       "      <td>NaN</td>\n",
       "      <td>NaN</td>\n",
       "      <td>NaN</td>\n",
       "      <td>NaN</td>\n",
       "      <td>NaN</td>\n",
       "      <td>NaN</td>\n",
       "      <td>NaN</td>\n",
       "      <td>NaN</td>\n",
       "      <td>NaN</td>\n",
       "    </tr>\n",
       "    <tr>\n",
       "      <th>1</th>\n",
       "      <td>11998672</td>\n",
       "      <td>Sekulic P.</td>\n",
       "      <td>sekulic-philip</td>\n",
       "      <td>M</td>\n",
       "      <td>514.0</td>\n",
       "      <td>None</td>\n",
       "      <td>Subiaco</td>\n",
       "      <td>1.91</td>\n",
       "      <td>NaN</td>\n",
       "      <td>right-handed</td>\n",
       "      <td>...</td>\n",
       "      <td>NaN</td>\n",
       "      <td>NaN</td>\n",
       "      <td>NaN</td>\n",
       "      <td>NaN</td>\n",
       "      <td>NaN</td>\n",
       "      <td>NaN</td>\n",
       "      <td>NaN</td>\n",
       "      <td>NaN</td>\n",
       "      <td>NaN</td>\n",
       "      <td>NaN</td>\n",
       "    </tr>\n",
       "    <tr>\n",
       "      <th>2</th>\n",
       "      <td>11998774</td>\n",
       "      <td>Maloney P.</td>\n",
       "      <td>maloney-patrick</td>\n",
       "      <td>M</td>\n",
       "      <td>101.0</td>\n",
       "      <td>None</td>\n",
       "      <td>Oyster Bay</td>\n",
       "      <td>1.93</td>\n",
       "      <td>NaN</td>\n",
       "      <td>None</td>\n",
       "      <td>...</td>\n",
       "      <td>NaN</td>\n",
       "      <td>NaN</td>\n",
       "      <td>NaN</td>\n",
       "      <td>NaN</td>\n",
       "      <td>NaN</td>\n",
       "      <td>NaN</td>\n",
       "      <td>NaN</td>\n",
       "      <td>NaN</td>\n",
       "      <td>NaN</td>\n",
       "      <td>NaN</td>\n",
       "    </tr>\n",
       "    <tr>\n",
       "      <th>3</th>\n",
       "      <td>12017514</td>\n",
       "      <td>Baptiste H.</td>\n",
       "      <td>baptiste-hailey</td>\n",
       "      <td>F</td>\n",
       "      <td>1106.0</td>\n",
       "      <td>None</td>\n",
       "      <td>None</td>\n",
       "      <td>NaN</td>\n",
       "      <td>NaN</td>\n",
       "      <td>right-handed</td>\n",
       "      <td>...</td>\n",
       "      <td>NaN</td>\n",
       "      <td>NaN</td>\n",
       "      <td>NaN</td>\n",
       "      <td>NaN</td>\n",
       "      <td>NaN</td>\n",
       "      <td>NaN</td>\n",
       "      <td>NaN</td>\n",
       "      <td>NaN</td>\n",
       "      <td>NaN</td>\n",
       "      <td>NaN</td>\n",
       "    </tr>\n",
       "    <tr>\n",
       "      <th>4</th>\n",
       "      <td>12002055</td>\n",
       "      <td>Tauson C.</td>\n",
       "      <td>tauson-clara</td>\n",
       "      <td>F</td>\n",
       "      <td>6796.0</td>\n",
       "      <td>None</td>\n",
       "      <td>Copenhagen, Denmark</td>\n",
       "      <td>1.82</td>\n",
       "      <td>NaN</td>\n",
       "      <td>right-handed</td>\n",
       "      <td>...</td>\n",
       "      <td>NaN</td>\n",
       "      <td>NaN</td>\n",
       "      <td>NaN</td>\n",
       "      <td>NaN</td>\n",
       "      <td>NaN</td>\n",
       "      <td>NaN</td>\n",
       "      <td>NaN</td>\n",
       "      <td>NaN</td>\n",
       "      <td>NaN</td>\n",
       "      <td>NaN</td>\n",
       "    </tr>\n",
       "  </tbody>\n",
       "</table>\n",
       "<p>5 rows × 62 columns</p>\n",
       "</div>"
      ],
      "text/plain": [
       "   match_id         name             slug gender  user_count  \\\n",
       "0  11998780    Kozlov S.    kozlov-stefan      M       752.0   \n",
       "1  11998672   Sekulic P.   sekulic-philip      M       514.0   \n",
       "2  11998774   Maloney P.  maloney-patrick      M       101.0   \n",
       "3  12017514  Baptiste H.  baptiste-hailey      F      1106.0   \n",
       "4  12002055    Tauson C.     tauson-clara      F      6796.0   \n",
       "\n",
       "                 residence           birthplace  height  weight         plays  \\\n",
       "0  Pembroke Pines, FL, USA    Skopje, Macedonia    1.83    79.0  right-handed   \n",
       "1                     None              Subiaco    1.91     NaN  right-handed   \n",
       "2                     None           Oyster Bay    1.93     NaN          None   \n",
       "3                     None                 None     NaN     NaN  right-handed   \n",
       "4                     None  Copenhagen, Denmark    1.82     NaN  right-handed   \n",
       "\n",
       "   ... tennis_points  has_event_player_statistics  crowd_sourcing_enabled  \\\n",
       "0  ...           NaN                          NaN                     NaN   \n",
       "1  ...           NaN                          NaN                     NaN   \n",
       "2  ...           NaN                          NaN                     NaN   \n",
       "3  ...           NaN                          NaN                     NaN   \n",
       "4  ...           NaN                          NaN                     NaN   \n",
       "\n",
       "   has_performance_graph_feature  display_inverse_home_away_teams priority  \\\n",
       "0                            NaN                              NaN      NaN   \n",
       "1                            NaN                              NaN      NaN   \n",
       "2                            NaN                              NaN      NaN   \n",
       "3                            NaN                              NaN      NaN   \n",
       "4                            NaN                              NaN      NaN   \n",
       "\n",
       "  competition_type city  stadium  venue_id  \n",
       "0              NaN  NaN      NaN       NaN  \n",
       "1              NaN  NaN      NaN       NaN  \n",
       "2              NaN  NaN      NaN       NaN  \n",
       "3              NaN  NaN      NaN       NaN  \n",
       "4              NaN  NaN      NaN       NaN  \n",
       "\n",
       "[5 rows x 62 columns]"
      ]
     },
     "execution_count": 5,
     "metadata": {},
     "output_type": "execute_result"
    }
   ],
   "source": [
    "matches_df.head()"
   ]
  }
 ],
 "metadata": {
  "kernelspec": {
   "display_name": "tennisvenv",
   "language": "python",
   "name": "python3"
  },
  "language_info": {
   "codemirror_mode": {
    "name": "ipython",
    "version": 3
   },
   "file_extension": ".py",
   "mimetype": "text/x-python",
   "name": "python",
   "nbconvert_exporter": "python",
   "pygments_lexer": "ipython3",
   "version": "3.12.10"
  }
 },
 "nbformat": 4,
 "nbformat_minor": 5
}
