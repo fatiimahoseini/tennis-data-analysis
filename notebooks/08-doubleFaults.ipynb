{
 "cells": [
  {
   "cell_type": "markdown",
   "id": "3e78fad9",
   "metadata": {},
   "source": [
    "# Question 8: Is there a difference in the number of double faults based on gender?\n"
   ]
  },
  {
   "cell_type": "code",
   "execution_count": 3,
   "id": "9ed33784",
   "metadata": {},
   "outputs": [],
   "source": [
    "import os\n",
    "from pathlib import Path\n",
    "import pandas as pd\n",
    "from concurrent.futures import ThreadPoolExecutor, as_completed\n",
    "from tqdm import tqdm\n",
    "import matplotlib.pyplot as plt\n",
    "import seaborn as sns"
   ]
  },
  {
   "cell_type": "code",
   "execution_count": null,
   "id": "bf0602cf",
   "metadata": {},
   "outputs": [],
   "source": [
    "def get_day_folders(base_path):\n",
    "    return sorted([\n",
    "        folder for folder in os.listdir(base_path)\n",
    "        if os.path.isdir(os.path.join(base_path, folder)) and folder.startswith(\"2024\")\n",
    "    ])\n",
    "\n",
    "def load_file_selected_columns(file, columns):\n",
    "    try:\n",
    "        return pd.read_parquet(file, columns=columns)\n",
    "    except Exception as e:\n",
    "        return None\n",
    "\n",
    "def load_file_selected_columns(file, columns):\n",
    "    try:\n",
    "\n",
    "        df = pd.read_parquet(file)\n",
    "        \n",
    "        # Check which columns exist in the file\n",
    "        existing_columns = [col for col in columns if col in df.columns]\n",
    "        \n",
    "        # If no required columns exist, skip this file\n",
    "        if not existing_columns:\n",
    "            return None\n",
    "        \n",
    "        # Select the existing columns and return the dataframe\n",
    "        return df[existing_columns]\n",
    "        \n",
    "    except Exception as e:\n",
    "        print(f\"⚠️ Error reading {file}: {e}\")\n",
    "        return None\n",
    "\n",
    "def load_all_data_selected_columns(base_path, subfolder_name, columns):\n",
    "    all_files = []\n",
    "    for folder in get_day_folders(base_path):\n",
    "        path_pattern = Path(base_path) / folder / 'data' / 'raw' / subfolder_name\n",
    "        all_files.extend(path_pattern.glob(\"*.parquet\"))\n",
    "\n",
    "    dfs = []\n",
    "    failed_files = 0\n",
    "    success_files = 0\n",
    "\n",
    "    with ThreadPoolExecutor(max_workers=16) as executor:\n",
    "        futures = [executor.submit(load_file_selected_columns, file, columns) for file in all_files]\n",
    "        for future in tqdm(as_completed(futures), total=len(futures), desc=\"Loading selected columns\"):\n",
    "            result = future.result()\n",
    "            if result is not None:\n",
    "                dfs.append(result)\n",
    "                success_files += 1\n",
    "            else:\n",
    "                failed_files += 1\n",
    "\n",
    "    print(f\"✔️ Successfully loaded {success_files} files.\")\n",
    "    print(f\"⚠️ Skipped {failed_files} files due to missing columns.\")\n",
    "\n",
    "    return pd.concat(dfs, ignore_index=True) if dfs else None"
   ]
  },
  {
   "cell_type": "code",
   "execution_count": 6,
   "id": "a8bd7a22",
   "metadata": {},
   "outputs": [
    {
     "name": "stderr",
     "output_type": "stream",
     "text": [
      "Loading selected columns: 100%|██████████| 23291/23291 [00:39<00:00, 585.11it/s]\n"
     ]
    },
    {
     "name": "stdout",
     "output_type": "stream",
     "text": [
      "✔️ Successfully loaded 23291 files.\n",
      "⚠️ Skipped 0 files due to missing columns.\n"
     ]
    }
   ],
   "source": [
    "base_path = \"../data/tennis_data\"\n",
    "required_stats_columns = ['match_id', 'statistic_name', 'home_value', 'away_value']\n",
    "stats_df = load_all_data_selected_columns(base_path, 'raw_statistics_parquet', required_stats_columns)\n"
   ]
  },
  {
   "cell_type": "code",
   "execution_count": 8,
   "id": "7cbe7e5d",
   "metadata": {},
   "outputs": [
    {
     "name": "stderr",
     "output_type": "stream",
     "text": [
      "Loading selected columns: 100%|██████████| 316802/316802 [12:53<00:00, 409.68it/s]\n"
     ]
    },
    {
     "name": "stdout",
     "output_type": "stream",
     "text": [
      "✔️ Successfully loaded 316802 files.\n",
      "⚠️ Skipped 0 files due to missing columns.\n"
     ]
    }
   ],
   "source": [
    "required_matches_columns = ['match_id', 'player_id', 'gender']\n",
    "matches_df = load_all_data_selected_columns(base_path, 'raw_match_parquet', required_matches_columns)"
   ]
  },
  {
   "cell_type": "code",
   "execution_count": 10,
   "id": "5e3b01e1",
   "metadata": {},
   "outputs": [
    {
     "data": {
      "text/html": [
       "<div>\n",
       "<style scoped>\n",
       "    .dataframe tbody tr th:only-of-type {\n",
       "        vertical-align: middle;\n",
       "    }\n",
       "\n",
       "    .dataframe tbody tr th {\n",
       "        vertical-align: top;\n",
       "    }\n",
       "\n",
       "    .dataframe thead th {\n",
       "        text-align: right;\n",
       "    }\n",
       "</style>\n",
       "<table border=\"1\" class=\"dataframe\">\n",
       "  <thead>\n",
       "    <tr style=\"text-align: right;\">\n",
       "      <th></th>\n",
       "      <th>match_id</th>\n",
       "      <th>statistic_name</th>\n",
       "      <th>home_value</th>\n",
       "      <th>away_value</th>\n",
       "    </tr>\n",
       "  </thead>\n",
       "  <tbody>\n",
       "    <tr>\n",
       "      <th>0</th>\n",
       "      <td>11998666</td>\n",
       "      <td>aces</td>\n",
       "      <td>3</td>\n",
       "      <td>4</td>\n",
       "    </tr>\n",
       "    <tr>\n",
       "      <th>1</th>\n",
       "      <td>11998666</td>\n",
       "      <td>double_faults</td>\n",
       "      <td>1</td>\n",
       "      <td>4</td>\n",
       "    </tr>\n",
       "    <tr>\n",
       "      <th>2</th>\n",
       "      <td>11998666</td>\n",
       "      <td>first_serve</td>\n",
       "      <td>39</td>\n",
       "      <td>56</td>\n",
       "    </tr>\n",
       "    <tr>\n",
       "      <th>3</th>\n",
       "      <td>11998666</td>\n",
       "      <td>second_serve</td>\n",
       "      <td>26</td>\n",
       "      <td>26</td>\n",
       "    </tr>\n",
       "    <tr>\n",
       "      <th>4</th>\n",
       "      <td>11998666</td>\n",
       "      <td>first_serve_points</td>\n",
       "      <td>25</td>\n",
       "      <td>42</td>\n",
       "    </tr>\n",
       "  </tbody>\n",
       "</table>\n",
       "</div>"
      ],
      "text/plain": [
       "   match_id      statistic_name  home_value  away_value\n",
       "0  11998666                aces           3           4\n",
       "1  11998666       double_faults           1           4\n",
       "2  11998666         first_serve          39          56\n",
       "3  11998666        second_serve          26          26\n",
       "4  11998666  first_serve_points          25          42"
      ]
     },
     "execution_count": 10,
     "metadata": {},
     "output_type": "execute_result"
    }
   ],
   "source": [
    "stats_df.head()"
   ]
  },
  {
   "cell_type": "code",
   "execution_count": 11,
   "id": "678726b8",
   "metadata": {},
   "outputs": [
    {
     "data": {
      "text/html": [
       "<div>\n",
       "<style scoped>\n",
       "    .dataframe tbody tr th:only-of-type {\n",
       "        vertical-align: middle;\n",
       "    }\n",
       "\n",
       "    .dataframe tbody tr th {\n",
       "        vertical-align: top;\n",
       "    }\n",
       "\n",
       "    .dataframe thead th {\n",
       "        text-align: right;\n",
       "    }\n",
       "</style>\n",
       "<table border=\"1\" class=\"dataframe\">\n",
       "  <thead>\n",
       "    <tr style=\"text-align: right;\">\n",
       "      <th></th>\n",
       "      <th>match_id</th>\n",
       "      <th>player_id</th>\n",
       "      <th>gender</th>\n",
       "    </tr>\n",
       "  </thead>\n",
       "  <tbody>\n",
       "    <tr>\n",
       "      <th>0</th>\n",
       "      <td>11998447</td>\n",
       "      <td>77223.0</td>\n",
       "      <td>M</td>\n",
       "    </tr>\n",
       "    <tr>\n",
       "      <th>1</th>\n",
       "      <td>11998782</td>\n",
       "      <td>71950.0</td>\n",
       "      <td>M</td>\n",
       "    </tr>\n",
       "    <tr>\n",
       "      <th>2</th>\n",
       "      <td>12002053</td>\n",
       "      <td>110055.0</td>\n",
       "      <td>F</td>\n",
       "    </tr>\n",
       "    <tr>\n",
       "      <th>3</th>\n",
       "      <td>12011301</td>\n",
       "      <td>157808.0</td>\n",
       "      <td>M</td>\n",
       "    </tr>\n",
       "    <tr>\n",
       "      <th>4</th>\n",
       "      <td>12002048</td>\n",
       "      <td>67759.0</td>\n",
       "      <td>F</td>\n",
       "    </tr>\n",
       "  </tbody>\n",
       "</table>\n",
       "</div>"
      ],
      "text/plain": [
       "   match_id  player_id gender\n",
       "0  11998447    77223.0      M\n",
       "1  11998782    71950.0      M\n",
       "2  12002053   110055.0      F\n",
       "3  12011301   157808.0      M\n",
       "4  12002048    67759.0      F"
      ]
     },
     "execution_count": 11,
     "metadata": {},
     "output_type": "execute_result"
    }
   ],
   "source": [
    "matches_df.head()"
   ]
  },
  {
   "cell_type": "code",
   "execution_count": null,
   "id": "0b40434e",
   "metadata": {},
   "outputs": [],
   "source": [
    "# Filter only rows related to \"Double Faults\"\n",
    "dfaults_df = stats_df[stats_df['statistic_name'] == 'double_faults'].copy()\n",
    "\n",
    "# Total double faults per match\n",
    "agg_df = dfaults_df.groupby('match_id')[['home_value', 'away_value']].sum().reset_index()\n",
    "\n",
    "# (each row = one player)\n",
    "home_df = agg_df[['match_id', 'home_value']].rename(columns={'home_value': 'double_faults'})\n",
    "home_df['player_type'] = 'home'\n",
    "\n",
    "away_df = agg_df[['match_id', 'away_value']].rename(columns={'away_value': 'double_faults'})\n",
    "away_df['player_type'] = 'away'\n",
    "\n",
    "faults_long_df = pd.concat([home_df, away_df], ignore_index=True)\n",
    "\n",
    "# Assign \"home\"/\"away\" based on order\n",
    "matches_df_sorted = matches_df.sort_values(['match_id', 'player_id'])\n",
    "matches_df_sorted['player_type'] = matches_df_sorted.groupby('match_id').cumcount().map({0: 'home', 1: 'away'})\n",
    "player_info = matches_df_sorted[['match_id', 'player_type', 'gender']]\n",
    "\n",
    "# Merge player gender with double fault \n",
    "merged_df = faults_long_df.merge(player_info, on=['match_id', 'player_type'], how='inner')\n",
    "\n",
    "# Drop rows with missing values\n",
    "merged_df = merged_df.dropna(subset=['double_faults', 'gender'])\n",
    "grouped = merged_df.groupby('gender')['double_faults'].agg(['count', 'mean', 'median', 'std'])\n"
   ]
  },
  {
   "cell_type": "code",
   "execution_count": 30,
   "id": "8a605ad9",
   "metadata": {},
   "outputs": [
    {
     "data": {
      "text/html": [
       "<div>\n",
       "<style scoped>\n",
       "    .dataframe tbody tr th:only-of-type {\n",
       "        vertical-align: middle;\n",
       "    }\n",
       "\n",
       "    .dataframe tbody tr th {\n",
       "        vertical-align: top;\n",
       "    }\n",
       "\n",
       "    .dataframe thead th {\n",
       "        text-align: right;\n",
       "    }\n",
       "</style>\n",
       "<table border=\"1\" class=\"dataframe\">\n",
       "  <thead>\n",
       "    <tr style=\"text-align: right;\">\n",
       "      <th></th>\n",
       "      <th>count</th>\n",
       "      <th>mean</th>\n",
       "      <th>median</th>\n",
       "      <th>std</th>\n",
       "    </tr>\n",
       "    <tr>\n",
       "      <th>gender</th>\n",
       "      <th></th>\n",
       "      <th></th>\n",
       "      <th></th>\n",
       "      <th></th>\n",
       "    </tr>\n",
       "  </thead>\n",
       "  <tbody>\n",
       "    <tr>\n",
       "      <th>F</th>\n",
       "      <td>9467</td>\n",
       "      <td>14.037287</td>\n",
       "      <td>12.0</td>\n",
       "      <td>11.726331</td>\n",
       "    </tr>\n",
       "    <tr>\n",
       "      <th>M</th>\n",
       "      <td>12116</td>\n",
       "      <td>10.846236</td>\n",
       "      <td>8.0</td>\n",
       "      <td>9.544070</td>\n",
       "    </tr>\n",
       "  </tbody>\n",
       "</table>\n",
       "</div>"
      ],
      "text/plain": [
       "        count       mean  median        std\n",
       "gender                                     \n",
       "F        9467  14.037287    12.0  11.726331\n",
       "M       12116  10.846236     8.0   9.544070"
      ]
     },
     "execution_count": 30,
     "metadata": {},
     "output_type": "execute_result"
    }
   ],
   "source": [
    "grouped.head()"
   ]
  },
  {
   "cell_type": "code",
   "execution_count": 39,
   "id": "8592842f",
   "metadata": {},
   "outputs": [
    {
     "name": "stderr",
     "output_type": "stream",
     "text": [
      "C:\\Users\\fatii\\AppData\\Local\\Temp\\ipykernel_15688\\3096844993.py:2: FutureWarning: \n",
      "\n",
      "Passing `palette` without assigning `hue` is deprecated and will be removed in v0.14.0. Assign the `x` variable to `hue` and set `legend=False` for the same effect.\n",
      "\n",
      "  sns.barplot(x='gender', y='double_faults', data=merged_df, palette='rocket')\n"
     ]
    },
    {
     "data": {
      "image/png": "[encoded data removed]",
      "text/plain": [
       "<Figure size 800x500 with 1 Axes>"
      ]
     },
     "metadata": {},
     "output_type": "display_data"
    }
   ],
   "source": [
    "fig, ax = plt.subplots(figsize=(8,5))\n",
    "sns.barplot(x='gender', y='double_faults', data=merged_df, palette='rocket')\n",
    "\n",
    "ax.spines[[\"right\",\"top\"]].set_visible(False)\n",
    "ax.spines[[\"left\"]].set_color(\"#c2c2c2\")\n",
    "\n",
    "ax.set_title(\"TAverage Double Faults by Gende\",\n",
    "             weight=\"bold\",\n",
    "             color=\"grey\",\n",
    "             fontsize=15)\n",
    "\n",
    "ax.tick_params(axis=\"x\", labelsize=\"large\")\n",
    "ax.tick_params(axis=\"y\", labelsize=\"large\")\n",
    "\n",
    "ax.set_xlabel(\"Gender\", fontsize=10, color=\"grey\")\n",
    "ax.set_ylabel(\"Average Double Faults\", fontsize=10, color=\"grey\")\n",
    "\n",
    "ax.grid(axis=\"x\", linestyle=\"dashed\", color=\"gainsboro\")\n",
    "\n",
    "plt.savefig(\"../outputs/figures/avgDoubleFaults.png\", dpi=300)\n",
    "plt.show()"
   ]
  }
 ],
 "metadata": {
  "kernelspec": {
   "display_name": "tennisvenv",
   "language": "python",
   "name": "python3"
  },
  "language_info": {
   "codemirror_mode": {
    "name": "ipython",
    "version": 3
   },
   "file_extension": ".py",
   "mimetype": "text/x-python",
   "name": "python",
   "nbconvert_exporter": "python",
   "pygments_lexer": "ipython3",
   "version": "3.12.10"
  }
 },
 "nbformat": 4,
 "nbformat_minor": 5
}
